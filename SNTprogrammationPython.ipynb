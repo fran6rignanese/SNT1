{
 "cells": [
  {
   "cell_type": "markdown",
   "id": "b5b93474",
   "metadata": {},
   "source": [
    "# Initiation à la programmation"
   ]
  },
  {
   "cell_type": "markdown",
   "id": "7016a842",
   "metadata": {},
   "source": [
    "## 1. Introduction"
   ]
  },
  {
   "cell_type": "markdown",
   "id": "c2a67541",
   "metadata": {},
   "source": [
    "**Python** est un langage de programmation comme Java, C, ... etc.\n",
    " \n",
    "Un langage de programmation est un langage que la machine pourra exécuter.\n",
    "\n",
    "Pour les programmes complexes, on écrit au préalable un **algorithme** qui est une suite **d'instructions logiques** à effectuer pour obtenir un résultat souhaité.\n",
    "\n",
    "Une recette est un exemple d'algorithme."
   ]
  },
  {
   "cell_type": "markdown",
   "id": "81960165",
   "metadata": {},
   "source": [
    "## 2.  Interagir avec la machine ##\n",
    "Dans ce paragraphe nous allons apprendre à utiliser deux instructions Python qui permettront un affichage à l'écran ou  une saisie au clavier.\n",
    "\n",
    "### 2.1  L'instruction print ##\n",
    "\n",
    "L'instruction **print** permet d'afficher à l'écran du texte ou le contenu d'une variable.\n",
    "\n",
    "Exécutez le code ci-dessous"
   ]
  },
  {
   "cell_type": "code",
   "execution_count": null,
   "id": "465d2005",
   "metadata": {},
   "outputs": [],
   "source": [
    "print(\"Bienvenue au cours de SNT \")"
   ]
  },
  {
   "cell_type": "markdown",
   "id": "978e762a",
   "metadata": {},
   "source": [
    "Dans ce script on affiche du texte qui doit être mis entre guillemets.\n",
    "\n",
    "Testez le code ci-dessous pour afficher la variable annee\n"
   ]
  },
  {
   "cell_type": "code",
   "execution_count": null,
   "id": "49726f7c",
   "metadata": {},
   "outputs": [],
   "source": [
    "annee=2019\n",
    "print(\"Bienvenue au cours de SNT , en cette année \",annee)"
   ]
  },
  {
   "cell_type": "markdown",
   "id": "3bd187a3",
   "metadata": {},
   "source": [
    "Dans ce script on a **affecté** 2019 à la variable *annee* (sans accent) et on a affiché le texte entre guillemets et la valeur de la variable **annee**, les deux séparés par une virgule."
   ]
  },
  {
   "cell_type": "markdown",
   "id": "a6f3f07a",
   "metadata": {},
   "source": [
    "### 2.2  L'instruction input ###\n",
    "\n",
    "Testez le code ci-dessous"
   ]
  },
  {
   "cell_type": "code",
   "execution_count": null,
   "id": "66511a50",
   "metadata": {},
   "outputs": [],
   "source": [
    "annee=2019\n",
    "prenom=input(\"Quel est ton prénom ? \")\n",
    "print(\"Bienvenue au cours de SNT , en cette année \",annee, prenom)"
   ]
  },
  {
   "cell_type": "markdown",
   "id": "ef836f29",
   "metadata": {},
   "source": [
    "Ici l'affectation de la variable *prenom* passe par le clavier grâce à l'instruction **input**.\n",
    "\n",
    "Il est important de savoir que l'instruction **input** affecte toujours une chaîne de caractères (un mot).\n",
    "\n",
    "\n",
    "\n"
   ]
  },
  {
   "cell_type": "markdown",
   "id": "002f8b3b",
   "metadata": {},
   "source": [
    "Si nous souhaitons saisir un entier il faut faire une conversion en utilisant l'instruction **int**.\n",
    "\n",
    "Testez le code ci-dessous"
   ]
  },
  {
   "cell_type": "code",
   "execution_count": null,
   "id": "14152387",
   "metadata": {},
   "outputs": [],
   "source": [
    "prenom=input(\"Quel est ton prénom ? \")\n",
    "annee=int(input(\"Quelle est ton année de naissance ? \"))\n",
    "print(prenom, \" en 2050 tu auras \", 2050-annee, \"ans\")"
   ]
  },
  {
   "cell_type": "markdown",
   "id": "a774980b",
   "metadata": {},
   "source": [
    "## Exercices ##"
   ]
  },
  {
   "cell_type": "markdown",
   "id": "f292b13c",
   "metadata": {},
   "source": [
    "### Exercice 1\n",
    "Dans cet exercice on veut écrire un  script qui devra\n",
    "\n",
    "- saisir au clavier un *prenom*\n",
    "- saisir au clavier une *annee_de_naissance*\n",
    "- saisir au clavier une *annee_actuelle*\n",
    "- afficher l'âge.\n",
    "\n",
    "Complétez le code ci-dessous"
   ]
  },
  {
   "cell_type": "code",
   "execution_count": null,
   "id": "99c69bcd",
   "metadata": {},
   "outputs": [],
   "source": [
    "prenom= ............\n",
    "annee_de_naissance= ................\n",
    "annee_actuelle= ................\n",
    "print(prenom, \" tu as \",..............., \"ans\")"
   ]
  },
  {
   "attachments": {},
   "cell_type": "markdown",
   "id": "6a9165ec",
   "metadata": {},
   "source": [
    "### Exercice 2\n",
    "\n",
    "Dans cet exercice on veut écrire un  script qui devra\n",
    "\n",
    "- saisir au clavier un *prenom*\n",
    "- saisir au clavier un *age*\n",
    "- saisir au clavier une *annee_actuelle*\n",
    "- afficher l'année de naissance de *prenom*.\n",
    "\n"
   ]
  },
  {
   "cell_type": "markdown",
   "id": "823e0bfd",
   "metadata": {},
   "source": [
    "<!doctype html>\n",
    "<html lang=\"fr\">\n",
    "\n",
    "<head>\n",
    "    <meta charset=\"utf-8\">\n",
    "    <title></title>\n",
    "</head>\n",
    "\n",
    "<body>\n",
    "    <img src=\"exo2.png\" alt=\"exo2\" width=\"400\"/>\n",
    "    \n",
    "</body>\n",
    "\n",
    "</html>\n"
   ]
  },
  {
   "cell_type": "code",
   "execution_count": null,
   "id": "e12323c9",
   "metadata": {},
   "outputs": [],
   "source": [
    "# Votre code\n",
    "\n",
    "\n"
   ]
  },
  {
   "cell_type": "markdown",
   "id": "ec86ddce",
   "metadata": {},
   "source": [
    "### Exercice 3\n",
    "\n",
    "Écrire un script Python qui :\n",
    "\n",
    "- saisit au clavier un  *prenom*\n",
    "- saisit au clavier une *annee_de_naissance*\n",
    "- saisit au clavier une *annee_actuelle*\n",
    "- saisit au clavier un nombre *annee*\n",
    "- affiche l'âge de *prenom* dans *annee* \n",
    "\n"
   ]
  },
  {
   "cell_type": "markdown",
   "id": "f0763862",
   "metadata": {},
   "source": [
    "<!doctype html>\n",
    "<html lang=\"fr\">\n",
    "\n",
    "<head>\n",
    "    <meta charset=\"utf-8\">\n",
    "    <title></title>\n",
    "</head>\n",
    "\n",
    "<body>\n",
    "    <img src=\"exo3.png\" alt=\"exo3\" width=\"400\"/>\n",
    "    \n",
    "</body>\n",
    "\n",
    "</html>\n"
   ]
  },
  {
   "cell_type": "code",
   "execution_count": null,
   "id": "5e3f9a08",
   "metadata": {},
   "outputs": [],
   "source": [
    "# Votre code\n",
    "\n",
    "\n"
   ]
  },
  {
   "cell_type": "markdown",
   "id": "1ba463d1",
   "metadata": {},
   "source": [
    "### Exercice 4\n",
    "\n",
    "Écrire un script Python qui :\n",
    "\n",
    "- saisit au clavier un entier *n*\n",
    "- affiche le double de cet entier (*2n*). Pour la multiplication on utilisera l'étoile.\n"
   ]
  },
  {
   "cell_type": "markdown",
   "id": "7fc7cb77",
   "metadata": {},
   "source": [
    "<!doctype html>\n",
    "<html lang=\"fr\">\n",
    "\n",
    "<head>\n",
    "    <meta charset=\"utf-8\">\n",
    "    <title></title>\n",
    "</head>\n",
    "\n",
    "<body>\n",
    "    <img src=\"exo4.png\" alt=\"exo4\" width=\"250\"/>\n",
    "    \n",
    "</body>\n",
    "\n",
    "</html>\n"
   ]
  },
  {
   "cell_type": "code",
   "execution_count": null,
   "id": "3cdc2af5",
   "metadata": {},
   "outputs": [],
   "source": [
    "# Votre code\n",
    "\n",
    "\n"
   ]
  },
  {
   "cell_type": "markdown",
   "id": "a6b983d9",
   "metadata": {},
   "source": [
    "### Exercice 5\n",
    "\n",
    "Écrire un script Python qui :\n",
    "\n",
    "- saisit au clavier un entier *n*\n",
    "- saisit au clavier un  entier *p*\n",
    "- affiche la somme de *n+p*.\n",
    "- affiche la différence de *n-p*.\n"
   ]
  },
  {
   "cell_type": "markdown",
   "id": "6e5fa89f",
   "metadata": {},
   "source": [
    "<!doctype html>\n",
    "<html lang=\"fr\">\n",
    "\n",
    "<head>\n",
    "    <meta charset=\"utf-8\">\n",
    "    <title></title>\n",
    "</head>\n",
    "\n",
    "<body>\n",
    "    <img src=\"exo5.png\" alt=\"exo5\" width=\"200\"/>\n",
    "    \n",
    "</body>\n",
    "\n",
    "</html>"
   ]
  },
  {
   "cell_type": "code",
   "execution_count": null,
   "id": "26fa3bfc",
   "metadata": {},
   "outputs": [],
   "source": [
    "# Votre code\n",
    "\n",
    "\n"
   ]
  },
  {
   "cell_type": "markdown",
   "id": "f8010dd1",
   "metadata": {},
   "source": [
    "### Exercice 6\n",
    "\n",
    "Écrire un script Python qui saisit au clavier trois entiers *n, p* et *q* entre 0 et 9 et qui affiche l'entier *npq*. "
   ]
  },
  {
   "cell_type": "markdown",
   "id": "d7f089f5",
   "metadata": {},
   "source": [
    "<!doctype html>\n",
    "<html lang=\"fr\">\n",
    "\n",
    "<head>\n",
    "    <meta charset=\"utf-8\">\n",
    "    <title></title>\n",
    "</head>\n",
    "\n",
    "<body>\n",
    "    <img src=\"exo6.png\" alt=\"exo6\" width=\"200\"/>\n",
    "    \n",
    "</body>\n",
    "\n",
    "</html>"
   ]
  },
  {
   "cell_type": "markdown",
   "id": "6de7cd28",
   "metadata": {},
   "source": [
    "### 3.   Les instructions conditionnelles\n",
    "\n",
    "Dans ce paragraphe nous alons apprendre à écrire des conditions.\n",
    "\n",
    "Il y a trois instructions : **if**, **else** et **elif**.\n",
    "\n",
    "### 3.1   Instruction if\n",
    "\n",
    "On exécute un bloc d'instruction si la condition ou les conditions envisagées sont vraies.\n",
    "\n",
    "Tester le code ci-dessous."
   ]
  },
  {
   "cell_type": "code",
   "execution_count": null,
   "id": "cdb16e29",
   "metadata": {},
   "outputs": [],
   "source": [
    "n=int(input(\"Entrer un nombre : \"))\n",
    "if n>0:\n",
    "    print(n,\" est un nombre strictement positif\")"
   ]
  },
  {
   "cell_type": "markdown",
   "id": "14fc351d",
   "metadata": {},
   "source": [
    "On remarque que\n",
    "\n",
    "\n",
    "- la condition est suivie de deux points pour dire *alors*\n",
    "- l'instruction exécutée liée à la condition est **indentée** ce qui signifie décalée à droite.\n",
    " \n",
    " \n",
    "Testez à nouveau le code précédent en entrant un nombre positif puis un nombre négatif.\n"
   ]
  },
  {
   "cell_type": "markdown",
   "id": "63970b10",
   "metadata": {},
   "source": [
    "### 3.2  Instruction else\n",
    "\n",
    "Il ne se passe rien si on entre un nombre négatif.\n",
    "Testez le code  ci-dessous"
   ]
  },
  {
   "cell_type": "code",
   "execution_count": null,
   "id": "15e33905",
   "metadata": {},
   "outputs": [],
   "source": [
    "n=int(input(\"Entrer un nombre : \"))\n",
    "if n>0:\n",
    "    print(n,\" est un nombre strictement positif\")\n",
    "else:\n",
    "    print(n,\" est un nombre négatif\")"
   ]
  },
  {
   "cell_type": "markdown",
   "id": "1f2356d3",
   "metadata": {},
   "source": [
    "Dans ce code on a rajouter l'instruction **else** (sinon) qui envisage ce qui n'est pas compris dans le **if**.\n",
    "\n",
    "Testez à nouveau le code précédent en entrant un nombre positif puis un nombre négatif puis 0."
   ]
  },
  {
   "cell_type": "markdown",
   "id": "ffd1b648",
   "metadata": {},
   "source": [
    "### 3.3  Instruction elif\n",
    "\n",
    "Il faut envisager le zéro.\n",
    "\n",
    "Testez le code comme indiqué ci-dessous."
   ]
  },
  {
   "cell_type": "code",
   "execution_count": null,
   "id": "c6389b3b",
   "metadata": {},
   "outputs": [],
   "source": [
    "n=int(input(\"Entrer un nombre : \"))\n",
    "if n>0:\n",
    "    print(n,\" est un nombre strictement positif\")\n",
    "elif n<0 :\n",
    "    print(n,\" est un nombre strictement négatif\")\n",
    "else :\n",
    "    print(n,\" est un nul\")"
   ]
  },
  {
   "cell_type": "markdown",
   "id": "93c70f25",
   "metadata": {},
   "source": [
    "Dans ce code nous avons utilisé l'instruction **elif** (sinon si).\n",
    "\n",
    "Et enfin le **else** (sinon) arrive si le **if** ou le **elif** ne sont pas vérifiés.\n"
   ]
  },
  {
   "cell_type": "markdown",
   "id": "155eb486",
   "metadata": {},
   "source": [
    "### Exercice 7\n",
    "\n",
    "Dans cet exercice on veut écrire un  script qui devra\n",
    "\n",
    "- saisir au clavier un entier *n*\n",
    "- saisir au clavier un deuxième entier *p*\n",
    "- comparer *n* et *p*\n",
    "- afficher  *n* est plus petit que *p*, ou *n* est plus grand que *p*, ou *n* est égal à *p*."
   ]
  },
  {
   "cell_type": "markdown",
   "id": "4f6638f2",
   "metadata": {},
   "source": [
    "<!doctype html>\n",
    "<html lang=\"fr\">\n",
    "\n",
    "<head>\n",
    "    <meta charset=\"utf-8\">\n",
    "    <title></title>\n",
    "</head>\n",
    "\n",
    "<body>\n",
    "    <table>\n",
    "        <tr>\n",
    "            <td><img src=\"exo7_1.png\" alt=\"exo7_1\" width=\"200\"/></td>\n",
    "            <td> <img src=\"exo7_2.png\" alt=\"exo7_2\" width=\"200\"/></td>\n",
    "            <td><img src=\"exo7_3.png\" alt=\"exo7_3\" width=\"200\"/></td>\n",
    "            </tr>\n",
    "    </table>\n",
    "</body>\n",
    "\n",
    "</html>"
   ]
  },
  {
   "cell_type": "markdown",
   "id": "4e75156b",
   "metadata": {},
   "source": [
    "Compléter le code ci-dessous"
   ]
  },
  {
   "cell_type": "code",
   "execution_count": null,
   "id": "d64ac6f7",
   "metadata": {},
   "outputs": [],
   "source": [
    "n = ............\n",
    "p = ................\n",
    "if n < p  : \n",
    "    print(n,\" ................ \",p)\n",
    "elif ......    :\n",
    "    print(n,\" est plus grand que \",p)\n",
    "else:\n",
    "     print(n,\" est ....... à \",p)"
   ]
  },
  {
   "cell_type": "markdown",
   "id": "2d3d82f2",
   "metadata": {},
   "source": [
    "### Exercice 8\n",
    "\n",
    "Dans cet exercice la machine va générer deux entiers au hasard choisis entre 1 et 100, *n* et *p*.\n",
    "\n",
    "Puis l'utilisateur devra saisir la somme de *n* et *p*.\n",
    "\n",
    "Si la proposition de l'utilisateur est égale à *n+p* alors la machine affichera **Bravo!**.\n",
    "Sinon elle affichera le bon résultat."
   ]
  },
  {
   "cell_type": "markdown",
   "id": "f59cbed6",
   "metadata": {},
   "source": [
    "<!doctype html>\n",
    "<html lang=\"fr\">\n",
    "\n",
    "<head>\n",
    "    <meta charset=\"utf-8\">\n",
    "    <title></title>\n",
    "</head>\n",
    "\n",
    "<body>\n",
    "    <table>\n",
    "        <tr>\n",
    "            <td><img src=\"exo8_1.png\" alt=\"exo8_1\" width=\"350\"/></td>\n",
    "            <td> <img src=\"exo8_2.png\" alt=\"exo8_2\" width=\"350\"/></td>\n",
    "            </tr>\n",
    "    </table>\n",
    "</body>\n",
    "\n",
    "</html>"
   ]
  },
  {
   "cell_type": "markdown",
   "id": "e726070d",
   "metadata": {},
   "source": [
    "Compléter le script ci-dessous"
   ]
  },
  {
   "cell_type": "code",
   "execution_count": 2,
   "id": "b6dab7ee",
   "metadata": {},
   "outputs": [
    {
     "ename": "SyntaxError",
     "evalue": "invalid syntax (3887865255.py, line 4)",
     "output_type": "error",
     "traceback": [
      "\u001b[0;36m  File \u001b[0;32m\"/tmp/ipykernel_101182/3887865255.py\"\u001b[0;36m, line \u001b[0;32m4\u001b[0m\n\u001b[0;31m    prenom = ..............\u001b[0m\n\u001b[0m                ^\u001b[0m\n\u001b[0;31mSyntaxError\u001b[0m\u001b[0;31m:\u001b[0m invalid syntax\n"
     ]
    }
   ],
   "source": [
    "import random\n",
    "n=random.randint(1,100)\n",
    "p=random.randint(1,100)\n",
    "prenom = ..............\n",
    "proposition=int(input(str(n) + \" + \" + str(p)+ \" = \" ))\n",
    "if proposition == n + p :\n",
    "    print(.........)\n",
    "else :\n",
    "    print(..................)"
   ]
  },
  {
   "cell_type": "markdown",
   "id": "c167ac90",
   "metadata": {},
   "source": [
    "On peut remarquer que\n",
    "\n",
    "- **import random** permet d'importer la bibliothèque **random**\n",
    "-  **random.randint(1,100)** permet de choisir au hasard un entier en 1 et 100\n",
    "-  en ligne 4 **str** permet de convertir un entier en caractère et l'opérateur '+' permet d'écrire les caractères les uns après les autres\n",
    "-  pour tester une égalité on utilise le double égal.\n"
   ]
  },
  {
   "cell_type": "markdown",
   "id": "0eae49bf",
   "metadata": {},
   "source": [
    "### Exercice 9\n",
    "\n",
    "Modifier le code précédent en remplaçant la somme par  \n",
    "- une différence\n",
    "- un produit\n"
   ]
  },
  {
   "cell_type": "code",
   "execution_count": 5,
   "id": "80c4d0c6",
   "metadata": {},
   "outputs": [],
   "source": [
    "# Votre code (différence)\n",
    "\n",
    "\n"
   ]
  },
  {
   "cell_type": "code",
   "execution_count": 6,
   "id": "006829a7",
   "metadata": {},
   "outputs": [],
   "source": [
    "# Votre code (produit)\n",
    "\n"
   ]
  },
  {
   "cell_type": "markdown",
   "id": "4839b548",
   "metadata": {},
   "source": [
    "### Exercice 10\n",
    "\n",
    "Écrire un script Python qui \n",
    "\n",
    "\n",
    "- saisit le prénom d'un utilisateur\n",
    "- saisit l'âge\n",
    "- affiche si l’utilisateur est mineur ou majeur.\n"
   ]
  },
  {
   "cell_type": "code",
   "execution_count": 7,
   "id": "aa0b5b0a",
   "metadata": {},
   "outputs": [],
   "source": [
    "# Votre code\n",
    "\n",
    "\n",
    "\n"
   ]
  },
  {
   "cell_type": "markdown",
   "id": "2c1ce383",
   "metadata": {},
   "source": [
    "### Exercice 11\n",
    "\n",
    "Écrire un script Python qui lit deux nombres et affiche le signe de leur produit sans les multiplier.\n"
   ]
  },
  {
   "cell_type": "code",
   "execution_count": 8,
   "id": "019502da",
   "metadata": {},
   "outputs": [],
   "source": [
    "# Votre code\n",
    "\n",
    "\n",
    "\n"
   ]
  },
  {
   "cell_type": "markdown",
   "id": "1f33e977",
   "metadata": {},
   "source": [
    "### Exercice 12  Chifoumi\n",
    "\n",
    "Dans cet exercice nous allons jouer au **chifoumi** avec la machine.\n",
    "\n",
    "On rappelle les règles : la pierre bat les ciseaux (en les émoussant), les ciseaux battent la feuille (en la coupant), la feuille bat la pierre (en l'enveloppant).\n"
   ]
  },
  {
   "cell_type": "markdown",
   "id": "8489cbc2",
   "metadata": {},
   "source": [
    "<!doctype html>\n",
    "<html lang=\"fr\">\n",
    "\n",
    "<head>\n",
    "    <meta charset=\"utf-8\">\n",
    "    <title></title>\n",
    "</head>\n",
    "\n",
    "<body>\n",
    "    <table>\n",
    "        <tr>\n",
    "            <td><img src=\"exo12_1.png\" alt=\"exo12_1\" width=\"300\"/></td>\n",
    "            <td> <img src=\"exo12_2.png\" alt=\"exo12_2\" width=\"300\"/></td>\n",
    "            <td><img src=\"exo12_3.png\" alt=\"exo12_3\" width=\"300\"/></td>\n",
    "            </tr>\n",
    "    </table>\n",
    "</body>\n",
    "\n",
    "</html>"
   ]
  },
  {
   "cell_type": "markdown",
   "id": "b7b0e68d",
   "metadata": {},
   "source": [
    "Compléter le code ci-dessous"
   ]
  },
  {
   "cell_type": "code",
   "execution_count": 10,
   "id": "eb62822b",
   "metadata": {},
   "outputs": [
    {
     "ename": "SyntaxError",
     "evalue": "invalid syntax (1748819291.py, line 23)",
     "output_type": "error",
     "traceback": [
      "\u001b[0;36m  File \u001b[0;32m\"/tmp/ipykernel_101182/1748819291.py\"\u001b[0;36m, line \u001b[0;32m23\u001b[0m\n\u001b[0;31m    if  machine ............ :\u001b[0m\n\u001b[0m                ^\u001b[0m\n\u001b[0;31mSyntaxError\u001b[0m\u001b[0;31m:\u001b[0m invalid syntax\n"
     ]
    }
   ],
   "source": [
    "from random import*\n",
    "objets=[\"ciseau\",\"pierre\",\"feuille\"]\n",
    "machine=choice(objets)\n",
    "prenom=input(\"Entrer le prénom du joueur \")\n",
    "print(objets)\n",
    "p=int(input(\"Quelle est ta proposition (entrer 0, 1 ou 2) : \"))\n",
    "joueur=objets[p]\n",
    "print(\"machine = \",machine,\" joueur = \",joueur)\n",
    "if  machine == \"pierre\"  :\n",
    "    if joueur == \"ciseau\" :\n",
    "        print(prenom,\" tu as perdu, la machine a gagné\")\n",
    "    elif joueur == \"feuille\":\n",
    "        print(prenom,\" tu as gagné la machine a perdu\")\n",
    "    else :\n",
    "        print(prenom,\" et machine vous êtes à égalité\")\n",
    "if  machine == \"ciseau\"  :\n",
    "    if joueur == \" ........\" :\n",
    "        print(prenom,\" tu as perdu, la machine a gagné\")\n",
    "    elif joueur == \"..........\" :\n",
    "        print(prenom,\" tu as gagné la machine a perdu\")\n",
    "    else :\n",
    "        print(prenom,\" et machine vous êtes à égalité\")\n",
    "if  machine ............ :\n",
    "    if joueur ..............:\n",
    "        print(......................)\n",
    "    elif joueur ...................  :\n",
    "        print(.........................)\n",
    "    else :\n",
    "        print(......................)"
   ]
  },
  {
   "cell_type": "markdown",
   "id": "a36ee142",
   "metadata": {},
   "source": [
    "**Remarques :**\n",
    "\n",
    "- en ligne 1 nous importons toutes les \\\\instructions de la bibliothèque **random**\n",
    "- en ligne 2 nous créons la liste *objets*\n",
    "- en ligne 3 l'instruction **choice** permet de choisir au hasard un élément de la liste *objet*\n",
    "- en ligne 6 il faut comprendre que *objets[0]=\"ciseau\", objets[1]=\"pierre\"* et *objets[2]=\"feuille\"*. "
   ]
  },
  {
   "cell_type": "markdown",
   "id": "f7b04de1",
   "metadata": {},
   "source": [
    "### Exercice 13 (difficile)\n",
    "\n",
    " Écrire un programme qui demande une heure à un utilisateur et  affiche ensuite l'heure qu'il sera une seconde plus tard.\n",
    " \n",
    " Le code devra \n",
    "- saisir l'entier *heures*\n",
    "- saisir l'entier *minutes*\n",
    "- saisir l'entier *secondes*\n"
   ]
  },
  {
   "cell_type": "markdown",
   "id": "19fd2f1d",
   "metadata": {},
   "source": [
    "<!doctype html>\n",
    "<html lang=\"fr\">\n",
    "\n",
    "<head>\n",
    "    <meta charset=\"utf-8\">\n",
    "    <title></title>\n",
    "</head>\n",
    "\n",
    "<body>\n",
    "    <table>\n",
    "        <tr>\n",
    "            <td><img src=\"exo13_1.png\" alt=\"exo13_1\" width=\"300\"/></td>\n",
    "            <td> <img src=\"exo13_2.png\" alt=\"exo13_2\" width=\"300\"/></td>\n",
    "            <td><img src=\"exo13_3.png\" alt=\"exo13_3\" width=\"300\"/></td>\n",
    "            </tr>\n",
    "    </table>\n",
    "</body>\n",
    "\n",
    "</html>"
   ]
  },
  {
   "cell_type": "code",
   "execution_count": 11,
   "id": "11ae80b2",
   "metadata": {},
   "outputs": [],
   "source": [
    "# Votre code\n",
    "\n",
    "\n"
   ]
  },
  {
   "cell_type": "markdown",
   "id": "f355b995",
   "metadata": {},
   "source": [
    "## Exercice 14\n",
    "\n",
    "On indice les cases d'un échiquier avec deux indices *i* et *j* variant tous deux de 1 à 8. La case *( i; j)*\n",
    "est sur la ligne *i* et la colonne *j*. \n",
    "\n",
    "Par convention, la case (1; 1) est noire.\n",
    "\n",
    "Écrire un script Python qui demande à l'utilisateur de saisir les deux coordonnées *i* et *j* d'une case, et qui affiche s'il s'agit d'une case blanche ou noire.\n"
   ]
  },
  {
   "cell_type": "code",
   "execution_count": null,
   "id": "825ba3d2",
   "metadata": {},
   "outputs": [],
   "source": [
    "# Votre code\n",
    "\n",
    "\n"
   ]
  }
 ],
 "metadata": {
  "kernelspec": {
   "display_name": "Python 3 (ipykernel)",
   "language": "python",
   "name": "python3"
  },
  "language_info": {
   "codemirror_mode": {
    "name": "ipython",
    "version": 3
   },
   "file_extension": ".py",
   "mimetype": "text/x-python",
   "name": "python",
   "nbconvert_exporter": "python",
   "pygments_lexer": "ipython3",
   "version": "3.8.10"
  }
 },
 "nbformat": 4,
 "nbformat_minor": 5
}
