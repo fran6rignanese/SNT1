{
 "cells": [
  {
   "cell_type": "markdown",
   "id": "b5b93474",
   "metadata": {},
   "source": [
    "# Initiation à la programmation"
   ]
  },
  {
   "cell_type": "markdown",
   "id": "7016a842",
   "metadata": {},
   "source": [
    "## 1. Introduction"
   ]
  },
  {
   "cell_type": "markdown",
   "id": "c2a67541",
   "metadata": {},
   "source": [
    "**Python** est un langage de programmation comme Java, C, ... etc.\n",
    " \n",
    "Un langage de programmation est un langage que la machine pourra exécuter.\n",
    "\n",
    "Pour les programmes complexes, on écrit au préalable un **algorithme** qui est une suite **d'instructions logiques** à effectuer pour obtenir un résultat souhaité.\n",
    "\n",
    "Une recette est un exemple d'algorithme."
   ]
  },
  {
   "cell_type": "markdown",
   "id": "81960165",
   "metadata": {},
   "source": [
    "## 2.  Interagir avec la machine ##\n",
    "Dans ce paragraphe nous allons apprendre à utiliser deux instructions Python qui permettront un affichage à l'écran ou  une saisie au clavier.\n",
    "\n",
    "### 2.1  L'instruction print ##\n",
    "\n",
    "L'instruction **print** permet d'afficher à l'écran du texte ou le contenu d'une variable.\n",
    "\n",
    "Exécutez le code ci-dessous"
   ]
  },
  {
   "cell_type": "code",
   "execution_count": null,
   "id": "465d2005",
   "metadata": {},
   "outputs": [],
   "source": [
    "print(\"Bienvenue au cours de SNT \")"
   ]
  },
  {
   "cell_type": "markdown",
   "id": "978e762a",
   "metadata": {},
   "source": [
    "Dans ce script on affiche du texte qui doit être mis entre guillemets.\n",
    "\n",
    "Testez le code ci-dessous pour afficher la variable annee\n"
   ]
  },
  {
   "cell_type": "code",
   "execution_count": null,
   "id": "49726f7c",
   "metadata": {},
   "outputs": [],
   "source": [
    "annee=2019\n",
    "print(\"Bienvenue au cours de SNT , en cette année \",annee)"
   ]
  },
  {
   "cell_type": "markdown",
   "id": "3bd187a3",
   "metadata": {},
   "source": [
    "Dans ce script on a **affecté** 2019 à la variable *annee* (sans accent) et on a affiché le texte entre guillemets et la valeur de la variable **annee**, les deux séparés par une virgule."
   ]
  },
  {
   "cell_type": "markdown",
   "id": "a6f3f07a",
   "metadata": {},
   "source": [
    "### 2.2  L'instruction input ###\n",
    "\n",
    "Testez le code ci-dessous"
   ]
  },
  {
   "cell_type": "code",
   "execution_count": null,
   "id": "66511a50",
   "metadata": {},
   "outputs": [],
   "source": [
    "annee=2019\n",
    "prenom=input(\"Quel est ton prénom ? \")\n",
    "print(\"Bienvenue au cours de SNT , en cette année \",annee, prenom)"
   ]
  },
  {
   "cell_type": "markdown",
   "id": "ef836f29",
   "metadata": {},
   "source": [
    "Ici l'affectation de la variable *prenom* passe par le clavier grâce à l'instruction **input**.\n",
    "\n",
    "Il est important de savoir que l'instruction **input** affecte toujours une chaîne de caractères (un mot).\n",
    "\n",
    "\n",
    "\n"
   ]
  },
  {
   "cell_type": "markdown",
   "id": "002f8b3b",
   "metadata": {},
   "source": [
    "Si nous souhaitons saisir un entier il faut faire une conversion en utilisant l'instruction **int**.\n",
    "\n",
    "Testez le code ci-dessous"
   ]
  },
  {
   "cell_type": "code",
   "execution_count": null,
   "id": "14152387",
   "metadata": {},
   "outputs": [],
   "source": [
    "prenom=input(\"Quel est ton prénom ? \")\n",
    "annee=int(input(\"Quelle est ton année de naissance ? \"))\n",
    "print(prenom, \" en 2050 tu auras \", 2050-annee, \"ans\")"
   ]
  },
  {
   "cell_type": "markdown",
   "id": "a774980b",
   "metadata": {},
   "source": [
    "## Exercices ##"
   ]
  },
  {
   "cell_type": "markdown",
   "id": "f292b13c",
   "metadata": {},
   "source": [
    "### Exercice 1\n",
    "Dans cet exercice on veut écrire un  script qui devra\n",
    "\n",
    "- saisir au clavier un *prenom*\n",
    "- saisir au clavier une *annee_de_naissance*\n",
    "- saisir au clavier une *annee_actuelle*\n",
    "- afficher l'âge.\n",
    "\n",
    "Complétez le code ci-dessous"
   ]
  },
  {
   "cell_type": "code",
   "execution_count": null,
   "id": "99c69bcd",
   "metadata": {},
   "outputs": [],
   "source": [
    "prenom= ............\n",
    "annee_de_naissance= ................\n",
    "annee_actuelle= ................\n",
    "print(prenom, \" tu as \",..............., \"ans\")"
   ]
  },
  {
   "cell_type": "markdown",
   "id": "6a9165ec",
   "metadata": {},
   "source": [
    "### Exercice 2\n",
    "\n",
    "Dans cet exercice on veut écrire un  script qui devra\n",
    "\n",
    "- saisir au clavier un *prenom*\n",
    "- saisir au clavier un *age*\n",
    "- saisir au clavier une *annee_actuelle*\n",
    "- afficher l'année de naissance de *prenom*.\n",
    "\n"
   ]
  },
  {
   "cell_type": "markdown",
   "id": "823e0bfd",
   "metadata": {},
   "source": [
    "<!doctype html>\n",
    "<html lang=\"fr\">\n",
    "\n",
    "<head>\n",
    "    <meta charset=\"utf-8\">\n",
    "    <title></title>\n",
    "</head>\n",
    "\n",
    "<body>\n",
    "    <img src=\"exo2.png\" alt=\"exo2\" width=\"400\"/>\n",
    "    \n",
    "</body>\n",
    "\n",
    "</html>\n"
   ]
  },
  {
   "cell_type": "code",
   "execution_count": null,
   "id": "e12323c9",
   "metadata": {},
   "outputs": [],
   "source": [
    "# Votre code\n",
    "\n",
    "\n"
   ]
  },
  {
   "cell_type": "markdown",
   "id": "ec86ddce",
   "metadata": {},
   "source": [
    "### Exercice 3\n",
    "\n",
    "Écrire un script Python qui :\n",
    "\n",
    "- saisit au clavier un  *prenom*\n",
    "- saisit au clavier une *annee_de_naissance*\n",
    "- saisit au clavier une *annee_actuelle*\n",
    "- saisit au clavier un nombre *annee*\n",
    "- affiche l'âge de *prenom* dans *annee* \n",
    "\n"
   ]
  },
  {
   "cell_type": "markdown",
   "id": "f0763862",
   "metadata": {},
   "source": [
    "<!doctype html>\n",
    "<html lang=\"fr\">\n",
    "\n",
    "<head>\n",
    "    <meta charset=\"utf-8\">\n",
    "    <title></title>\n",
    "</head>\n",
    "\n",
    "<body>\n",
    "    <img src=\"exo3.png\" alt=\"exo3\" width=\"400\"/>\n",
    "    \n",
    "</body>\n",
    "\n",
    "</html>\n"
   ]
  },
  {
   "cell_type": "code",
   "execution_count": null,
   "id": "5e3f9a08",
   "metadata": {},
   "outputs": [],
   "source": [
    "# Votre code\n",
    "\n",
    "\n"
   ]
  },
  {
   "cell_type": "markdown",
   "id": "1ba463d1",
   "metadata": {},
   "source": [
    "### Exercice 4\n",
    "\n",
    "Écrire un script Python qui :\n",
    "\n",
    "- saisit au clavier un entier *n*\n",
    "- affiche le double de cet entier (*2n*). Pour la multiplication on utilisera l'étoile.\n"
   ]
  },
  {
   "cell_type": "markdown",
   "id": "7fc7cb77",
   "metadata": {},
   "source": [
    "<!doctype html>\n",
    "<html lang=\"fr\">\n",
    "\n",
    "<head>\n",
    "    <meta charset=\"utf-8\">\n",
    "    <title></title>\n",
    "</head>\n",
    "\n",
    "<body>\n",
    "    <img src=\"exo4.png\" alt=\"exo4\" width=\"250\"/>\n",
    "    \n",
    "</body>\n",
    "\n",
    "</html>\n"
   ]
  },
  {
   "cell_type": "code",
   "execution_count": null,
   "id": "3cdc2af5",
   "metadata": {},
   "outputs": [],
   "source": [
    "# Votre code\n",
    "\n",
    "\n"
   ]
  },
  {
   "cell_type": "markdown",
   "id": "a6b983d9",
   "metadata": {},
   "source": [
    "### Exercice 5\n",
    "\n",
    "Écrire un script Python qui :\n",
    "\n",
    "- saisit au clavier un entier *n*\n",
    "- saisit au clavier un  entier *p*\n",
    "- affiche la somme de *n+p*.\n",
    "- affiche la différence de *n-p*.\n"
   ]
  },
  {
   "cell_type": "markdown",
   "id": "6e5fa89f",
   "metadata": {},
   "source": [
    "<!doctype html>\n",
    "<html lang=\"fr\">\n",
    "\n",
    "<head>\n",
    "    <meta charset=\"utf-8\">\n",
    "    <title></title>\n",
    "</head>\n",
    "\n",
    "<body>\n",
    "    <img src=\"exo5.png\" alt=\"exo5\" width=\"200\"/>\n",
    "    \n",
    "</body>\n",
    "\n",
    "</html>"
   ]
  },
  {
   "cell_type": "code",
   "execution_count": null,
   "id": "26fa3bfc",
   "metadata": {},
   "outputs": [],
   "source": [
    "# Votre code\n",
    "\n",
    "\n"
   ]
  },
  {
   "cell_type": "markdown",
   "id": "f8010dd1",
   "metadata": {},
   "source": [
    "### Exercice 6\n",
    "\n",
    "Écrire un script Python qui saisit au clavier trois entiers *n, p* et *q* entre 0 et 9 et qui affiche l'entier *npq*. "
   ]
  },
  {
   "cell_type": "markdown",
   "id": "d7f089f5",
   "metadata": {},
   "source": [
    "<!doctype html>\n",
    "<html lang=\"fr\">\n",
    "\n",
    "<head>\n",
    "    <meta charset=\"utf-8\">\n",
    "    <title></title>\n",
    "</head>\n",
    "\n",
    "<body>\n",
    "    <img src=\"exo6.png\" alt=\"exo6\" width=\"200\"/>\n",
    "    \n",
    "</body>\n",
    "\n",
    "</html>"
   ]
  },
  {
   "cell_type": "markdown",
   "id": "6de7cd28",
   "metadata": {},
   "source": [
    "### 3.   Les instructions conditionnelles\n",
    "\n",
    "Dans ce paragraphe nous alons apprendre à écrire des conditions.\n",
    "\n",
    "Il y a trois instructions : **if**, **else** et **elif**.\n",
    "\n",
    "### 3.1   Instruction if\n",
    "\n",
    "On exécute un bloc d'instruction si la condition ou les conditions envisagées sont vraies.\n",
    "\n",
    "Tester le code ci-dessous."
   ]
  },
  {
   "cell_type": "code",
   "execution_count": null,
   "id": "cdb16e29",
   "metadata": {},
   "outputs": [],
   "source": [
    "n=int(input(\"Entrer un nombre : \"))\n",
    "if n>0:\n",
    "    print(n,\" est un nombre strictement positif\")"
   ]
  },
  {
   "cell_type": "markdown",
   "id": "14fc351d",
   "metadata": {},
   "source": [
    "On remarque que\n",
    "\n",
    "\n",
    "- la condition est suivie de deux points pour dire *alors*\n",
    "- l'instruction exécutée liée à la condition est **indentée** ce qui signifie décalée à droite.\n",
    " \n",
    " \n",
    "Testez à nouveau le code précédent en entrant un nombre positif puis un nombre négatif.\n"
   ]
  },
  {
   "cell_type": "markdown",
   "id": "63970b10",
   "metadata": {},
   "source": [
    "### 3.2  Instruction else\n",
    "\n",
    "Il ne se passe rien si on entre un nombre négatif.\n",
    "Testez le code  ci-dessous"
   ]
  },
  {
   "cell_type": "code",
   "execution_count": null,
   "id": "15e33905",
   "metadata": {},
   "outputs": [],
   "source": [
    "n=int(input(\"Entrer un nombre : \"))\n",
    "if n>0:\n",
    "    print(n,\" est un nombre strictement positif\")\n",
    "else:\n",
    "    print(n,\" est un nombre négatif\")"
   ]
  },
  {
   "cell_type": "markdown",
   "id": "1f2356d3",
   "metadata": {},
   "source": [
    "Dans ce code on a rajouter l'instruction **else** (sinon) qui envisage ce qui n'est pas compris dans le **if**.\n",
    "\n",
    "Testez à nouveau le code précédent en entrant un nombre positif puis un nombre négatif puis 0."
   ]
  },
  {
   "cell_type": "markdown",
   "id": "ffd1b648",
   "metadata": {},
   "source": [
    "### 3.3  Instruction elif\n",
    "\n",
    "Il faut envisager le zéro.\n",
    "\n",
    "Testez le code comme indiqué ci-dessous."
   ]
  },
  {
   "cell_type": "code",
   "execution_count": null,
   "id": "c6389b3b",
   "metadata": {},
   "outputs": [],
   "source": [
    "n=int(input(\"Entrer un nombre : \"))\n",
    "if n>0:\n",
    "    print(n,\" est un nombre strictement positif\")\n",
    "elif n<0 :\n",
    "    print(n,\" est un nombre strictement négatif\")\n",
    "else :\n",
    "    print(n,\" est un nul\")"
   ]
  },
  {
   "cell_type": "markdown",
   "id": "93c70f25",
   "metadata": {},
   "source": [
    "Dans ce code nous avons utilisé l'instruction **elif** (sinon si).\n",
    "\n",
    "Et enfin le **else** (sinon) arrive si le **if** ou le **elif** ne sont pas vérifiés.\n"
   ]
  },
  {
   "cell_type": "markdown",
   "id": "155eb486",
   "metadata": {},
   "source": [
    "### Exercice 7\n",
    "\n",
    "Dans cet exercice on veut écrire un  script qui devra\n",
    "\n",
    "- saisir au clavier un entier *n*\n",
    "- saisir au clavier un deuxième entier *p*\n",
    "- comparer *n* et *p*\n",
    "- afficher  *n* est plus petit que *p*, ou *n* est plus grand que *p*, ou *n* est égal à *p*."
   ]
  },
  {
   "cell_type": "markdown",
   "id": "4f6638f2",
   "metadata": {},
   "source": [
    "<!doctype html>\n",
    "<html lang=\"fr\">\n",
    "\n",
    "<head>\n",
    "    <meta charset=\"utf-8\">\n",
    "    <title></title>\n",
    "</head>\n",
    "\n",
    "<body>\n",
    "    <table>\n",
    "        <tr>\n",
    "            <td><img src=\"exo7_1.png\" alt=\"exo7_1\" width=\"200\"/></td>\n",
    "            <td> <img src=\"exo7_2.png\" alt=\"exo7_2\" width=\"200\"/></td>\n",
    "            <td><img src=\"exo7_3.png\" alt=\"exo7_3\" width=\"200\"/></td>\n",
    "            </tr>\n",
    "    </table>\n",
    "</body>\n",
    "\n",
    "</html>"
   ]
  },
  {
   "cell_type": "markdown",
   "id": "4e75156b",
   "metadata": {},
   "source": [
    "Compléter le code ci-dessous"
   ]
  },
  {
   "cell_type": "code",
   "execution_count": null,
   "id": "d64ac6f7",
   "metadata": {},
   "outputs": [],
   "source": [
    "n = ............\n",
    "p = ................\n",
    "if n < p  : \n",
    "    print(n,\" ................ \",p)\n",
    "elif ......    :\n",
    "    print(n,\" est plus grand que \",p)\n",
    "else:\n",
    "     print(n,\" est ....... à \",p)"
   ]
  },
  {
   "cell_type": "markdown",
   "id": "2d3d82f2",
   "metadata": {},
   "source": [
    "### Exercice 8\n",
    "\n",
    "Dans cet exercice la machine va générer deux entiers au hasard choisis entre 1 et 100, *n* et *p*.\n",
    "\n",
    "Puis l'utilisateur devra saisir la somme de *n* et *p*.\n",
    "\n",
    "Si la proposition de l'utilisateur est égale à *n+p* alors la machine affichera **Bravo!**.\n",
    "Sinon elle affichera le bon résultat."
   ]
  },
  {
   "cell_type": "markdown",
   "id": "f59cbed6",
   "metadata": {},
   "source": [
    "<!doctype html>\n",
    "<html lang=\"fr\">\n",
    "\n",
    "<head>\n",
    "    <meta charset=\"utf-8\">\n",
    "    <title></title>\n",
    "</head>\n",
    "\n",
    "<body>\n",
    "    <table>\n",
    "        <tr>\n",
    "            <td><img src=\"exo8_1.png\" alt=\"exo8_1\" width=\"350\"/></td>\n",
    "            <td> <img src=\"exo8_2.png\" alt=\"exo8_2\" width=\"350\"/></td>\n",
    "            </tr>\n",
    "    </table>\n",
    "</body>\n",
    "\n",
    "</html>"
   ]
  },
  {
   "cell_type": "markdown",
   "id": "e726070d",
   "metadata": {},
   "source": [
    "Compléter le script ci-dessous"
   ]
  },
  {
   "cell_type": "code",
   "execution_count": null,
   "id": "b6dab7ee",
   "metadata": {},
   "outputs": [],
   "source": [
    "import random\n",
    "n=random.randint(1,100)\n",
    "p=random.randint(1,100)\n",
    "prenom = ..............\n",
    "proposition=int(input(str(n) + \" + \" + str(p)+ \" = \" ))\n",
    "if proposition == n + p :\n",
    "    print(.........)\n",
    "else :\n",
    "    print(..................)"
   ]
  },
  {
   "cell_type": "markdown",
   "id": "c167ac90",
   "metadata": {},
   "source": [
    "On peut remarquer que\n",
    "\n",
    "- **import random** permet d'importer la bibliothèque **random**\n",
    "-  **random.randint(1,100)** permet de choisir au hasard un entier en 1 et 100\n",
    "-  en ligne 4 **str** permet de convertir un entier en caractère et l'opérateur '+' permet d'écrire les caractères les uns après les autres\n",
    "-  pour tester une égalité on utilise le double égal.\n"
   ]
  },
  {
   "cell_type": "markdown",
   "id": "0eae49bf",
   "metadata": {},
   "source": [
    "### Exercice 9\n",
    "\n",
    "Modifier le code précédent en remplaçant la somme par  \n",
    "- une différence\n",
    "- un produit\n"
   ]
  },
  {
   "cell_type": "code",
   "execution_count": null,
   "id": "80c4d0c6",
   "metadata": {},
   "outputs": [],
   "source": [
    "# Votre code (différence)\n",
    "\n",
    "\n"
   ]
  },
  {
   "cell_type": "code",
   "execution_count": null,
   "id": "006829a7",
   "metadata": {},
   "outputs": [],
   "source": [
    "# Votre code (produit)\n",
    "\n"
   ]
  },
  {
   "cell_type": "markdown",
   "id": "4839b548",
   "metadata": {},
   "source": [
    "### Exercice 10\n",
    "\n",
    "Écrire un script Python qui \n",
    "\n",
    "\n",
    "- saisit le prénom d'un utilisateur\n",
    "- saisit l'âge\n",
    "- affiche si l’utilisateur est mineur ou majeur.\n"
   ]
  },
  {
   "cell_type": "code",
   "execution_count": null,
   "id": "aa0b5b0a",
   "metadata": {},
   "outputs": [],
   "source": [
    "# Votre code\n",
    "\n",
    "\n",
    "\n"
   ]
  },
  {
   "cell_type": "markdown",
   "id": "2c1ce383",
   "metadata": {},
   "source": [
    "### Exercice 11\n",
    "\n",
    "Écrire un script Python qui lit deux nombres et affiche le signe de leur produit sans les multiplier.\n"
   ]
  },
  {
   "cell_type": "code",
   "execution_count": null,
   "id": "019502da",
   "metadata": {},
   "outputs": [],
   "source": [
    "# Votre code\n",
    "\n",
    "\n",
    "\n"
   ]
  },
  {
   "cell_type": "markdown",
   "id": "1f33e977",
   "metadata": {},
   "source": [
    "### Exercice 12  Chifoumi\n",
    "\n",
    "Dans cet exercice nous allons jouer au **chifoumi** avec la machine.\n",
    "\n",
    "On rappelle les règles : la pierre bat les ciseaux (en les émoussant), les ciseaux battent la feuille (en la coupant), la feuille bat la pierre (en l'enveloppant).\n"
   ]
  },
  {
   "cell_type": "markdown",
   "id": "8489cbc2",
   "metadata": {},
   "source": [
    "<!doctype html>\n",
    "<html lang=\"fr\">\n",
    "\n",
    "<head>\n",
    "    <meta charset=\"utf-8\">\n",
    "    <title></title>\n",
    "</head>\n",
    "\n",
    "<body>\n",
    "    <table>\n",
    "        <tr>\n",
    "            <td><img src=\"exo12_1.png\" alt=\"exo12_1\" width=\"300\"/></td>\n",
    "            <td> <img src=\"exo12_2.png\" alt=\"exo12_2\" width=\"300\"/></td>\n",
    "            <td><img src=\"exo12_3.png\" alt=\"exo12_3\" width=\"300\"/></td>\n",
    "            </tr>\n",
    "    </table>\n",
    "</body>\n",
    "\n",
    "</html>"
   ]
  },
  {
   "cell_type": "markdown",
   "id": "b7b0e68d",
   "metadata": {},
   "source": [
    "Compléter le code ci-dessous"
   ]
  },
  {
   "cell_type": "code",
   "execution_count": null,
   "id": "eb62822b",
   "metadata": {},
   "outputs": [],
   "source": [
    "from random import*\n",
    "objets=[\"ciseau\",\"pierre\",\"feuille\"]\n",
    "machine=choice(objets)\n",
    "prenom=input(\"Entrer le prénom du joueur \")\n",
    "print(objets)\n",
    "p=int(input(\"Quelle est ta proposition (entrer 0, 1 ou 2) : \"))\n",
    "joueur=objets[p]\n",
    "print(\"machine = \",machine,\" joueur = \",joueur)\n",
    "if  machine == \"pierre\"  :\n",
    "    if joueur == \"ciseau\" :\n",
    "        print(prenom,\" tu as perdu, la machine a gagné\")\n",
    "    elif joueur == \"feuille\":\n",
    "        print(prenom,\" tu as gagné la machine a perdu\")\n",
    "    else :\n",
    "        print(prenom,\" et machine vous êtes à égalité\")\n",
    "if  machine == \"ciseau\"  :\n",
    "    if joueur == \" ........\" :\n",
    "        print(prenom,\" tu as perdu, la machine a gagné\")\n",
    "    elif joueur == \"..........\" :\n",
    "        print(prenom,\" tu as gagné la machine a perdu\")\n",
    "    else :\n",
    "        print(prenom,\" et machine vous êtes à égalité\")\n",
    "if  machine ............ :\n",
    "    if joueur ..............:\n",
    "        print(......................)\n",
    "    elif joueur ...................  :\n",
    "        print(.........................)\n",
    "    else :\n",
    "        print(......................)"
   ]
  },
  {
   "cell_type": "markdown",
   "id": "a36ee142",
   "metadata": {},
   "source": [
    "**Remarques :**\n",
    "\n",
    "- en ligne 1 nous importons toutes les \\\\instructions de la bibliothèque **random**\n",
    "- en ligne 2 nous créons la liste *objets*\n",
    "- en ligne 3 l'instruction **choice** permet de choisir au hasard un élément de la liste *objet*\n",
    "- en ligne 6 il faut comprendre que *objets[0]=\"ciseau\", objets[1]=\"pierre\"* et *objets[2]=\"feuille\"*. "
   ]
  },
  {
   "cell_type": "markdown",
   "id": "f7b04de1",
   "metadata": {},
   "source": [
    "### Exercice 13 (difficile)\n",
    "\n",
    " Écrire un programme qui demande une heure à un utilisateur et  affiche ensuite l'heure qu'il sera une seconde plus tard.\n",
    " \n",
    " Le code devra \n",
    "- saisir l'entier *heures*\n",
    "- saisir l'entier *minutes*\n",
    "- saisir l'entier *secondes*\n"
   ]
  },
  {
   "cell_type": "markdown",
   "id": "19fd2f1d",
   "metadata": {},
   "source": [
    "<!doctype html>\n",
    "<html lang=\"fr\">\n",
    "\n",
    "<head>\n",
    "    <meta charset=\"utf-8\">\n",
    "    <title></title>\n",
    "</head>\n",
    "\n",
    "<body>\n",
    "    <table>\n",
    "        <tr>\n",
    "            <td><img src=\"exo13_1.png\" alt=\"exo13_1\" width=\"300\"/></td>\n",
    "            <td> <img src=\"exo13_2.png\" alt=\"exo13_2\" width=\"300\"/></td>\n",
    "            <td><img src=\"exo13_3.png\" alt=\"exo13_3\" width=\"300\"/></td>\n",
    "            </tr>\n",
    "    </table>\n",
    "</body>\n",
    "\n",
    "</html>"
   ]
  },
  {
   "cell_type": "code",
   "execution_count": null,
   "id": "11ae80b2",
   "metadata": {},
   "outputs": [],
   "source": [
    "# Votre code\n",
    "\n",
    "\n"
   ]
  },
  {
   "cell_type": "markdown",
   "id": "f355b995",
   "metadata": {},
   "source": [
    "## Exercice 14\n",
    "\n",
    "On indice les cases d'un échiquier avec deux indices *i* et *j* variant tous deux de 1 à 8. La case *( i; j)*\n",
    "est sur la ligne *i* et la colonne *j*. \n",
    "\n",
    "Par convention, la case (1; 1) est noire.\n",
    "\n",
    "Écrire un script Python qui demande à l'utilisateur de saisir les deux coordonnées *i* et *j* d'une case, et qui affiche s'il s'agit d'une case blanche ou noire.\n"
   ]
  },
  {
   "cell_type": "code",
   "execution_count": null,
   "id": "825ba3d2",
   "metadata": {},
   "outputs": [],
   "source": [
    "# Votre code\n",
    "\n",
    "\n"
   ]
  },
  {
   "cell_type": "markdown",
   "id": "e77cedcb",
   "metadata": {},
   "source": [
    "###### 4 Les boucles\n",
    "\n",
    "En programmation les boucles permettent de répéter un bloc d'instructions.\n",
    "\n",
    "**Exemple 1\n",
    "\n",
    "a=2\n",
    "\n",
    "Répète 5 fois\n",
    "\n",
    "\ta = a + 2\n",
    "\taffiche(a)\n",
    "    \n",
    "  \n",
    "    \n",
    "    \n",
    "\n",
    "\n"
   ]
  },
  {
   "cell_type": "markdown",
   "id": "19c927aa",
   "metadata": {},
   "source": [
    "\n",
    "<!doctype html>\n",
    "<html lang=\"fr\">\n",
    "\n",
    "<head>\n",
    "    <meta charset=\"utf-8\">\n",
    "    <title></title>\n",
    "</head>\n",
    "\n",
    "<body>\n",
    "    <table border=\"1\" width=\"40%\">\n",
    "        <tr>\n",
    "            <td>a</td><td>2</td><td> 4</td><td>6</td><td>8</td><td>10</td><td>12</td>\n",
    "        </tr>\n",
    "    </table>\n",
    "</body>\n",
    "\n",
    "</html>\n"
   ]
  },
  {
   "cell_type": "markdown",
   "id": "b3345526",
   "metadata": {},
   "source": [
    "**Exemple 2**\n",
    "\n",
    "a=2\n",
    "\n",
    "Tant que a < 13\n",
    "\n",
    "    a = a + 2\n",
    "    affiche(a)"
   ]
  },
  {
   "cell_type": "markdown",
   "id": "eb5cfcbe",
   "metadata": {},
   "source": [
    "\n",
    "<!doctype html>\n",
    "<html lang=\"fr\">\n",
    "\n",
    "<head>\n",
    "    <meta charset=\"utf-8\">\n",
    "    <title></title>\n",
    "</head>\n",
    "\n",
    "<body>\n",
    "    <table border=\"1\" width=\"40%\">\n",
    "        <tr>\n",
    "            <td>a</td><td>2</td><td> 4</td><td>6</td><td>8</td><td>10</td><td>12</td><td>14</td>\n",
    "        </tr>\n",
    "        <tr>\n",
    "            <td>a &lt;13 </td><td>oui</td><td>oui</td><td>oui</td><td>oui</td><td>oui</td><td>oui</td><td>non</td>\n",
    "        </tr>\n",
    "    </table>\n",
    "</body>\n",
    "\n",
    "</html>\n"
   ]
  },
  {
   "cell_type": "markdown",
   "id": "a1d4eaa6",
   "metadata": {},
   "source": [
    "### 4.1  La boucle Pour\n",
    "\n",
    "La boucle **Pour** correspond à l'exemple 1 ci-dessus.\n",
    "\n",
    "Pour ce type de boucle on connaît le nombre de répétitions.\n",
    "\n",
    "En Python on utilise l'instruction **range**.\n",
    "\n",
    "Testez le code ci-dessous :"
   ]
  },
  {
   "cell_type": "code",
   "execution_count": null,
   "id": "505ebde7",
   "metadata": {},
   "outputs": [],
   "source": [
    "n=int(input(\"Entrer un nombre : \"))\n",
    "for i in range(n):\n",
    "    print(\"Bonjour \",i,\" fois\")"
   ]
  },
  {
   "cell_type": "markdown",
   "id": "43ef31e6",
   "metadata": {},
   "source": [
    "On remarque que :\n",
    "\n",
    "- **for i in range(5)** signifie que la variable i prend 5 valeurs de 0 à 4, si on veut aller de 1 à 5 on écrira **for i in range(1,6)**.\n",
    "- comme pour l’instruction **if**, l’instruction range se termine par deux points\n",
    "- le bloc d’instructions à répéter est indenté (décalé)."
   ]
  },
  {
   "cell_type": "markdown",
   "id": "bc82d32a",
   "metadata": {},
   "source": [
    "### Exercice 15\n",
    "\n",
    "En utilisant l'instruction **range** écrire un script Python qui\n",
    "- saisit un nombre de tours\n",
    "- affiche les tours de manège"
   ]
  },
  {
   "cell_type": "markdown",
   "id": "48522bbf",
   "metadata": {},
   "source": [
    "<!doctype html>\n",
    "<html lang=\"fr\">\n",
    "\n",
    "<head>\n",
    "    <meta charset=\"utf-8\">\n",
    "    <title></title>\n",
    "</head>\n",
    "\n",
    "<body>\n",
    "    <img src=\"exo15.png\" alt=\"exo15\" width=\"250\"/>     \n",
    "</body>\n",
    "\n",
    "</html>"
   ]
  },
  {
   "cell_type": "code",
   "execution_count": null,
   "id": "4d789793",
   "metadata": {},
   "outputs": [],
   "source": [
    "# Votre code\n",
    "\n",
    "\n",
    "\n"
   ]
  },
  {
   "cell_type": "markdown",
   "id": "7c959ef8",
   "metadata": {},
   "source": [
    "### Exercice 16\n",
    "\n",
    "Dans cet exercice nous souhaitons écrire  un script Python qui :\n",
    "\n",
    "- saisit un entier *n*\n",
    "- affiche la table de multiplication de *n*.\n",
    "\n",
    "\n",
    "\n",
    "Compléter le code ci-dessous :"
   ]
  },
  {
   "cell_type": "markdown",
   "id": "b23de241",
   "metadata": {},
   "source": [
    "<!doctype html>\n",
    "<html lang=\"fr\">\n",
    "\n",
    "<head>\n",
    "    <meta charset=\"utf-8\">\n",
    "    <title></title>\n",
    "</head>\n",
    "\n",
    "<body>\n",
    "    <img src=\"exo16.png\" alt=\"exo16\" width=\"150\"/>     \n",
    "</body>\n",
    "\n",
    "</html>"
   ]
  },
  {
   "cell_type": "code",
   "execution_count": null,
   "id": "78086902",
   "metadata": {},
   "outputs": [],
   "source": [
    "n = . . . . . . \n",
    "for . . . . . . . . :\n",
    "    print(n,' x ',i,' = ',n*i)\n",
    "\n",
    "\n"
   ]
  },
  {
   "cell_type": "markdown",
   "id": "59d5e9ba",
   "metadata": {},
   "source": [
    "### 4.2   La boucle Tant que\n",
    "\n",
    "La boucle **while** est une boucle conditionnelle.\n",
    "\n",
    "Elle répète un bloc d'instruction tant qu'une condition est vraie.\n",
    "\n",
    "Testez le code ci-dessous "
   ]
  },
  {
   "cell_type": "code",
   "execution_count": null,
   "id": "35dc711b",
   "metadata": {},
   "outputs": [],
   "source": [
    "n=int(input(\"Entrer un nombre : \"))\n",
    "i=0\n",
    "while i<=n:\n",
    "    print(i)\n",
    "    i+=5"
   ]
  },
  {
   "cell_type": "markdown",
   "id": "97253c25",
   "metadata": {},
   "source": [
    "### Exercice 17\n",
    "\n",
    "Tester les algorithmes ci-dessous en complétant les tableaux (V=vrai) puis les coder en Python pour vérifier:\n"
   ]
  },
  {
   "cell_type": "markdown",
   "id": "4b5bf0d9",
   "metadata": {},
   "source": [
    "<!doctype html>\n",
    "<html lang=\"fr\">\n",
    "\n",
    "<head>\n",
    "    <meta charset=\"utf-8\">\n",
    "    <title></title>\n",
    "</head>\n",
    "\n",
    "<body>\n",
    "    <img src=\"exo17.png\" alt=\"exo17\" width=\"800\"/>     \n",
    "</body>\n",
    "\n",
    "</html>"
   ]
  },
  {
   "cell_type": "code",
   "execution_count": null,
   "id": "35cc5ee0",
   "metadata": {},
   "outputs": [],
   "source": [
    "# Votre code pour l'algorithme 1\n",
    "\n"
   ]
  },
  {
   "cell_type": "code",
   "execution_count": null,
   "id": "0603893c",
   "metadata": {},
   "outputs": [],
   "source": [
    "# Votre code pour l'algorithme 2\n",
    "\n",
    "\n"
   ]
  },
  {
   "cell_type": "code",
   "execution_count": null,
   "id": "e57f9c2b",
   "metadata": {},
   "outputs": [],
   "source": [
    "# Votre code pour l'algorithme 3\n",
    "\n",
    "\n"
   ]
  },
  {
   "cell_type": "markdown",
   "id": "7f7fce19",
   "metadata": {},
   "source": [
    "### Exercice 18\n",
    "\n",
    "Écrire un script Python qui :\n",
    "- saisit un entier *n*\n",
    "- affiche les entiers pairs inférieurs à *n*."
   ]
  },
  {
   "cell_type": "markdown",
   "id": "c1725c38",
   "metadata": {},
   "source": [
    "<!doctype html>\n",
    "<html lang=\"fr\">\n",
    "\n",
    "<head>\n",
    "    <meta charset=\"utf-8\">\n",
    "    <title></title>\n",
    "</head>\n",
    "\n",
    "<body>\n",
    "    <img src=\"exo18.png\" alt=\"exo18\" width=\"150\"/>     \n",
    "</body>\n",
    "\n",
    "</html>"
   ]
  },
  {
   "cell_type": "code",
   "execution_count": null,
   "id": "a5e94fb3",
   "metadata": {},
   "outputs": [],
   "source": [
    "# Votre code\n",
    "\n"
   ]
  },
  {
   "cell_type": "markdown",
   "id": "d11c39b0",
   "metadata": {},
   "source": [
    "### Exercice 19   La suite de Syracuse\n",
    "\n",
    "Dans cet exercice on souhaite écrire un script Python qui :\n",
    "\n",
    "- saisit un entier *n*\n",
    "- affiche, tant que *n$ est différent de 1, les entiers générés de la manière suivante :\n",
    "\n",
    "  - si  $n$ est pair n prend la valeur *n* divisé par 2\n",
    "  - sinon (*n* impair) *n* prend la valeur *3n+1*\n",
    "\n",
    "\n",
    "\n",
    "Compléter le script ci-dessous :\n",
    "\n"
   ]
  },
  {
   "cell_type": "markdown",
   "id": "4ac38be4",
   "metadata": {},
   "source": [
    "<!doctype html>\n",
    "<html lang=\"fr\">\n",
    "\n",
    "<head>\n",
    "    <meta charset=\"utf-8\">\n",
    "    <title></title>\n",
    "</head>\n",
    "\n",
    "<body>\n",
    "    <img src=\"exo19.png\" alt=\"exo19\" width=\"150\"/>     \n",
    "</body>\n",
    "\n",
    "</html>"
   ]
  },
  {
   "cell_type": "code",
   "execution_count": null,
   "id": "81366355",
   "metadata": {},
   "outputs": [],
   "source": [
    "n= .......................\n",
    "print(n)\n",
    "while n != 1:\n",
    "    if n%2 == 0:\n",
    "        n = n//2\n",
    "    else :\n",
    "        n= .........\n",
    "    print(n)"
   ]
  },
  {
   "cell_type": "markdown",
   "id": "ef44b11c",
   "metadata": {},
   "source": [
    "- en ligne 3 l'opérateur *n* différent s'écrit **!=** \n",
    "- en ligne 4 l'instruction **n \\% 2 == 0** teste si le reste de la division de *n* par 2 est égal à 0, autrement dit si *n* est pair\n",
    "- en ligne 5 l'instruction  **n // 2** calcule la division entière de *n* par 2 (5//2=2)."
   ]
  },
  {
   "cell_type": "markdown",
   "id": "1ef10afc",
   "metadata": {},
   "source": [
    "### Exercice 20    Le juste prix\n",
    "\n",
    "Dans cet exercice nous souhaitons houer au juste prix.\n",
    "\n",
    "Le candidat à cinq tentatives pour trouver un  entier, entre 0 et 20, généré au hasard par la machine.\n",
    "\n",
    "Pour chaque proposition du joueur la machine devra répondre \"c'est plus\" ou \"c'est moins\" ou \"Bravo !\" et cela tant que que le nombre de tentatives est inférieur à 5 et que le joueur n'a pas trouvé.\n",
    "\n",
    "Complétez le code ci-dessous :"
   ]
  },
  {
   "cell_type": "markdown",
   "id": "89fc6ae1",
   "metadata": {},
   "source": [
    "<!doctype html>\n",
    "<html lang=\"fr\">\n",
    "\n",
    "<head>\n",
    "    <meta charset=\"utf-8\">\n",
    "    <title></title>\n",
    "</head>\n",
    "\n",
    "<body>\n",
    "    <table>\n",
    "        <tr>\n",
    "            <td><img src=\"exo20_1.png\" alt=\"exo20_1\" width=\"400\"/></td>\n",
    "            <td> <img src=\"exo20_2.png\" alt=\"exo20_2\" width=\"300\"/></td>\n",
    "            </tr>\n",
    "    </table>\n",
    "</body>\n",
    "\n",
    "</html>"
   ]
  },
  {
   "cell_type": "code",
   "execution_count": null,
   "id": "2e6780d9",
   "metadata": {},
   "outputs": [],
   "source": [
    "import random\n",
    "prix=random.randint(1,20)\n",
    "trouve=False\n",
    "tentatives=0\n",
    "prenom = ..............\n",
    "while not trouve and tentatives < 5 :\n",
    "    proposition= int(input(\"Propose un entier entre 0 et 20 : \"))\n",
    "    tentatives = tentatives + ...\n",
    "    if proposition < prix :\n",
    "    print(\" ..........\")\n",
    "    elif proposition > prix :\n",
    "        print(\"............\")\n",
    "    else :\n",
    "        trouve=True\n",
    "        print(\"Bravo !!! \",............,\", tu as trouvés en \",tentative(s),\" ..............\")\n",
    "if not trouve :\n",
    "    print(prenom, \" ............\")"
   ]
  },
  {
   "cell_type": "markdown",
   "id": "06a9e5d8",
   "metadata": {},
   "source": [
    "**Remarques**:\n",
    "- en ligne 3 la variable *trouve* est un **booléen**. Elle ne prend que les valeurs **True** ou **False**\n",
    "- en ligne 5 la condition **while** utilise l'opérateur **and** qui est vrai seulement si les les deux propositions *\"not trouve\"* et *\"tentatives <5\"* sont vraies."
   ]
  },
  {
   "cell_type": "markdown",
   "id": "df4f626b",
   "metadata": {},
   "source": [
    "### Exercice 21\n",
    "\n",
    "Reprendre le code du jeu du Chiffoumi créé précédemment et le modifier afin de répéter le jeu 5 fois.\n",
    "À la fin le programme devra afficher le score du joueur et de la machine.\n"
   ]
  },
  {
   "cell_type": "markdown",
   "id": "5ba73a30",
   "metadata": {},
   "source": [
    "## 5   Les fonctions\n",
    "\n",
    "En programmation, une **fonction** est un \"petit programme\" que l'on peut utiliser plusieurs fois dans un programme plus grand que l'on appelle **\"Programme principal\"**.\n",
    "\n",
    "La syntaxe d'une fonction est :\n",
    "\n",
    "*def nom_de_la_fontion(p1,p2,...):\n",
    "    instruction\n",
    "    instruction\n",
    "    .......\n",
    "    return le résultat de la fonction\n",
    "\n",
    "\n",
    "- En ligne 1 **def** permet de définir la fonction. *p1, p2, ...* sont les **paramètres de la fonctions.**\n",
    "- En ligne 5 **return** retourne le résultat obtenu par la fonction. Parfois le **return** peut être remplacé par un **print**\n",
    "\n",
    "Dans ce paragraphe nous allons  utiliser la console pour appeler la fonction.\n",
    "\n",
    "Vous exécuterez le code de la fonction pour son appel depuis la console.\n",
    "\n",
    "\n",
    "\n",
    "### 5.1  Ma première fonction\n",
    "\n",
    "Imaginons que l'on souhaite répondre de la même façon à différents amis.\n",
    "\n",
    "Exécutez le code de la fonction ci-dessous .\n"
   ]
  },
  {
   "cell_type": "code",
   "execution_count": null,
   "id": "77764608",
   "metadata": {},
   "outputs": [],
   "source": [
    "def messageAnniversaire(nom,prenom,signature):\n",
    "    texte=\"Un immense merci à toi \"+nom+prenom+ \"d'avoir été présent pour célébrer mes 16 ans.\\n\"\\\n",
    "    \"Ta présence, ta bonne humeur et ton champomy rosé ont fait de cette soirée un anniversaire inoubliable !\\n\"\\\n",
    "    + signature\n",
    "    return texte\n",
    "\n"
   ]
  },
  {
   "cell_type": "markdown",
   "id": "f6eb641b",
   "metadata": {},
   "source": [
    "Exécutez la ligne de code ci-dessous pour appeler la fonction"
   ]
  },
  {
   "cell_type": "code",
   "execution_count": null,
   "id": "61e5e5e1",
   "metadata": {},
   "outputs": [],
   "source": [
    ">>> messageAnniversaire(\"Jean\",\"Baptiste\",\"Julie\")"
   ]
  },
  {
   "cell_type": "markdown",
   "id": "2a80d737",
   "metadata": {},
   "source": [
    "Les nom de la fonction est : *messageAnniversaire* et ses paramètres sont *nom,prenom,signature*.\n",
    "\n",
    "L'instruction **\\n** permet un retour à la ligne."
   ]
  },
  {
   "cell_type": "markdown",
   "id": "3a538fb7",
   "metadata": {},
   "source": [
    "### Exercice 22\n",
    "\n",
    "Créez une fonction *messageInvitation(nom,prenom,fete,date,accessoire,signature)* qui donnera le résultat ci-dessous  :\n"
   ]
  },
  {
   "cell_type": "markdown",
   "id": "048de23f",
   "metadata": {},
   "source": [
    "<!doctype html>\n",
    "<html lang=\"fr\">\n",
    "\n",
    "<head>\n",
    "    <meta charset=\"utf-8\">\n",
    "    <title></title>\n",
    "</head>\n",
    "\n",
    "<body>\n",
    "    <img src=\"exo22.png\" alt=\"exo22\" width=\"800\"/>     \n",
    "</body>\n",
    "\n",
    "</html>"
   ]
  },
  {
   "cell_type": "code",
   "execution_count": null,
   "id": "5ea1528f",
   "metadata": {},
   "outputs": [],
   "source": [
    "# Votre code fonction\n",
    "\n",
    "\n",
    "\n"
   ]
  },
  {
   "cell_type": "code",
   "execution_count": null,
   "id": "cd0a88d8",
   "metadata": {},
   "outputs": [],
   "source": [
    ">>> messageInvitation(\"Jean\",\"Baptiste\",\"Julie\")"
   ]
  },
  {
   "cell_type": "markdown",
   "id": "65e3a989",
   "metadata": {},
   "source": [
    "### 5.2    D'autres fonctions\n",
    "\n",
    "#### 5.2.1    Équation ax + b = 0\n",
    "\n",
    "L'équation *ax+b=0* a pour solution :\n",
    "\n",
    "- $a!=0$ : $ax=-b$ et donc la solution est $x=-\\dfrac{b}{a}$\n",
    "- $a= 0$ et $b\\neq 0$  :  $0x=-b$ et donc il n'y a pas de solution.\n",
    "- $a= 0$ et $b= 0$  :  $0x=0$ et donc il y a une infinité de solutions.\n",
    "\n",
    "Testez le code ci-dessous pour \n",
    "1. $5x+3=0$\n",
    "2. 0x+3=0\n",
    "3. 0x+0=0"
   ]
  },
  {
   "cell_type": "markdown",
   "id": "22473f7f",
   "metadata": {},
   "source": [
    "Exécuter le code de la fonction ci-dessous"
   ]
  },
  {
   "cell_type": "code",
   "execution_count": null,
   "id": "6ddcdeb5",
   "metadata": {},
   "outputs": [],
   "source": [
    "from fractions import Fraction\n",
    "\n",
    "def equa1(a,b):\n",
    "    \"\"\" ax+b=0\"\"\"\n",
    "    if a==0 and b==0:\n",
    "        return \"Il y a une infinité de solutions\"\n",
    "    if a==0 and b!=0:\n",
    "        return \"Il n'y a pas de solution\"\n",
    "    return Fraction(-b, a)"
   ]
  },
  {
   "cell_type": "markdown",
   "id": "dabc111c",
   "metadata": {},
   "source": [
    "Appeler la fonction en exécutant les ligne de codes ci-dessous"
   ]
  },
  {
   "cell_type": "code",
   "execution_count": null,
   "id": "a02edd1d",
   "metadata": {},
   "outputs": [],
   "source": [
    ">>> equa1(5,3)"
   ]
  },
  {
   "cell_type": "code",
   "execution_count": null,
   "id": "b6121b12",
   "metadata": {},
   "outputs": [],
   "source": [
    ">>> equa1(0,3)"
   ]
  },
  {
   "cell_type": "code",
   "execution_count": null,
   "id": "c0078e07",
   "metadata": {},
   "outputs": [],
   "source": [
    ">>> equa1(0,0)"
   ]
  },
  {
   "cell_type": "markdown",
   "id": "f1b6ae9d",
   "metadata": {},
   "source": [
    "#### Équation $ax+b=cx+d$\n",
    "\n",
    "On se ramène à l'équation précédente où $a$ est remplacé par $a-c$ et $b$ par $b-d$.\\\\\n",
    "\n",
    "En effet : $ax+b=cx+d$ équivaut à $ax-cx+b-d=0$ soit $(a-c)x+(b-d)=0$\n",
    "\n",
    "Testez le code ci-dessous pour \n",
    "1. $5x+3=2x-5$\n",
    "2. $5x+3=5x-2$\n",
    "3. $5x+3=5x+3$\n",
    "\n",
    "Exécutez le code ci-dessous .\n"
   ]
  },
  {
   "cell_type": "code",
   "execution_count": null,
   "id": "3780e2ec",
   "metadata": {},
   "outputs": [],
   "source": [
    "from fractions import Fraction\n",
    "\n",
    "def equa1(a,b):\n",
    "    \"\"\" ax+b=0\"\"\"\n",
    "    if a==0 and b==0:\n",
    "        return \"Il y a une infinité de solutions\"\n",
    "    if a==0 and b!=0:\n",
    "        return \"Il n'y a pas de solution\"\n",
    "    return Fraction(-b, a)\n",
    "\n",
    "def equa2(a,b,c,d):\n",
    "    \"\"\"ax+b=cx+d\"\"\"\n",
    "    return equa1(a-c,b-d)"
   ]
  },
  {
   "cell_type": "markdown",
   "id": "ae38fbc2",
   "metadata": {},
   "source": [
    "Appeler la fonction en exécutant les ligne de codes ci-dessous"
   ]
  },
  {
   "cell_type": "code",
   "execution_count": null,
   "id": "a1b32d1d",
   "metadata": {},
   "outputs": [],
   "source": [
    ">>> equa2(5,3,2,-5)"
   ]
  },
  {
   "cell_type": "code",
   "execution_count": null,
   "id": "7db3068f",
   "metadata": {},
   "outputs": [],
   "source": [
    ">>> equa2(5,3,5,-2)"
   ]
  },
  {
   "cell_type": "code",
   "execution_count": null,
   "id": "c8dad640",
   "metadata": {},
   "outputs": [],
   "source": [
    ">>> equa2(5,3,5,3)"
   ]
  },
  {
   "cell_type": "markdown",
   "id": "1fe61dc7",
   "metadata": {},
   "source": [
    "#### 5.2.3  Fonction affine\n",
    "\n",
    "Dans cet exercice on souhaite calculer l'image d'un réel par une fonction affine.\n",
    "\n",
    "Exécutez le code ci-dessous puis la ligne de la console."
   ]
  },
  {
   "cell_type": "code",
   "execution_count": null,
   "id": "6410609c",
   "metadata": {},
   "outputs": [],
   "source": [
    "def ImageAffine(a,b,x):\n",
    "    \"\"\" f(x)=ax+b\"\"\"\n",
    "    return a*x+b"
   ]
  },
  {
   "cell_type": "code",
   "execution_count": null,
   "id": "feb1e5d3",
   "metadata": {},
   "outputs": [],
   "source": [
    ">>> ImageAffine(2,3,5)"
   ]
  },
  {
   "cell_type": "markdown",
   "id": "c9a2c973",
   "metadata": {},
   "source": [
    "Dans cet exercice on souhaite calculer l'antécédent d'un réel par une fonction affine.\n",
    "\n",
    "Ceci revient à résoudre l'équation $ax+b=y$ soit $ax+b-y=0$.\n",
    "\n",
    "On pourra utiliser la fonction  **qua1(a,b)** où le paramètre $b$ sera remplacé par $b-y$.\n",
    "\n",
    "\n",
    "Exécutez le code ci-dessous puis la ligne de la console."
   ]
  },
  {
   "cell_type": "code",
   "execution_count": null,
   "id": "1a539085",
   "metadata": {},
   "outputs": [],
   "source": [
    "from fractions import Fraction\n",
    "\n",
    "def equa1(a,b):\n",
    "    \"\"\" ax+b=0\"\"\"\n",
    "    if a==0 and b==0:\n",
    "        return \"Il y a une infinité de solutions\"\n",
    "    if a==0 and b!=0:\n",
    "        return \"Il n'y a pas de solution\"\n",
    "    return Fraction(-b, a)\n",
    "\n",
    "def AntecedentAffine(a,b,y):\n",
    "    \"\"\"ax+b=y\"\"\"\n",
    "    return equa1(a,b-y)"
   ]
  },
  {
   "cell_type": "code",
   "execution_count": null,
   "id": "80468c5e",
   "metadata": {},
   "outputs": [],
   "source": [
    ">>> AntecedentAffine(2,5,15)"
   ]
  },
  {
   "cell_type": "markdown",
   "id": "4c018cfa",
   "metadata": {},
   "source": [
    "### Exercice 23   Équation produit\n",
    "\n",
    "Écrire une fonction **EquationProduit(a,b,c,d)** qui renvoie les solutions de l'équation $(ax+b)(cx+d)=0$."
   ]
  },
  {
   "cell_type": "code",
   "execution_count": null,
   "id": "672bada1",
   "metadata": {},
   "outputs": [],
   "source": [
    "# Votre code \n",
    "\n"
   ]
  },
  {
   "cell_type": "code",
   "execution_count": null,
   "id": "9874de5a",
   "metadata": {},
   "outputs": [],
   "source": [
    ">>> EquationProduit(2,3,5,10) "
   ]
  },
  {
   "cell_type": "markdown",
   "id": "3b43a86e",
   "metadata": {},
   "source": [
    "### Exercice 24  Calcul d'image\n",
    "\n",
    "Écrire une fonction **ImagePoly(a,b,c)** qui renvoie l'image d'un réel $x$ par la fonction définie par $f(x)=ax^2+bx+c$.\n",
    "\n",
    "(En python $x^2$ s'écrit $x**2$)\n"
   ]
  },
  {
   "cell_type": "code",
   "execution_count": null,
   "id": "4d6d3177",
   "metadata": {},
   "outputs": [],
   "source": [
    "# Votre code "
   ]
  },
  {
   "cell_type": "code",
   "execution_count": null,
   "id": "30f0dac1",
   "metadata": {},
   "outputs": [],
   "source": [
    ">>>   "
   ]
  },
  {
   "cell_type": "markdown",
   "id": "cb47f8cb",
   "metadata": {},
   "source": [
    "### Exercice 25  Triplets pythagoriciens\n",
    "\n",
    "On veut créer une fonction qui teste les triplets pythagoriciens.\n",
    "\n",
    "$(a,b,c)$ est un triplet pythagoricien lorsque le carré du plus grand est égal à la somme des carrés des deux autres.\n",
    "\n",
    "Exemple : $(3,4,5)$ est un triplet pythagoricien car $5^2=4^2+3^2$.\n",
    "\n",
    "\n",
    " Complétez le code ci-dessous où \n",
    "\n",
    "- en ligne 2 $a$ est la plus grande des 3 valeurs;\n",
    "- en ligne 3 le double égal renvoie True ou False.\n"
   ]
  },
  {
   "cell_type": "code",
   "execution_count": null,
   "id": "ce5d4b50",
   "metadata": {},
   "outputs": [],
   "source": [
    "def Pythogore(a,b,c):\n",
    "    if a==max(a,b,c):\n",
    "        return a**2==b**2+c**2\n",
    "    if b==max(a,b,c):\n",
    "        .........\n",
    "    if ............. :\n",
    "        ..........\n",
    "        "
   ]
  },
  {
   "cell_type": "code",
   "execution_count": null,
   "id": "a1db8654",
   "metadata": {},
   "outputs": [],
   "source": [
    ">>> Pythogore(3,4,5)"
   ]
  },
  {
   "cell_type": "code",
   "execution_count": null,
   "id": "9348d253",
   "metadata": {},
   "outputs": [],
   "source": [
    ">>> Pythogore(3,4,1)"
   ]
  },
  {
   "cell_type": "code",
   "execution_count": null,
   "id": "b96aa7d7",
   "metadata": {},
   "outputs": [],
   "source": [
    ">>> Pythogore(13,5,12)"
   ]
  }
 ],
 "metadata": {
  "kernelspec": {
   "display_name": "Python 3 (ipykernel)",
   "language": "python",
   "name": "python3"
  },
  "language_info": {
   "codemirror_mode": {
    "name": "ipython",
    "version": 3
   },
   "file_extension": ".py",
   "mimetype": "text/x-python",
   "name": "python",
   "nbconvert_exporter": "python",
   "pygments_lexer": "ipython3",
   "version": "3.8.10"
  }
 },
 "nbformat": 4,
 "nbformat_minor": 5
}
